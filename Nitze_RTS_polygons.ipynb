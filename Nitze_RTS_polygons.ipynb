{
  "nbformat": 4,
  "nbformat_minor": 0,
  "metadata": {
    "colab": {
      "name": "Nitze_RTS_polygons",
      "provenance": [],
      "collapsed_sections": [],
      "background_execution": "on",
      "toc_visible": true,
      "mount_file_id": "10nMApz132F8uwo68inNOwxaBrqOoHtpU",
      "authorship_tag": "ABX9TyNctQiOKUJ7djVhJbjLpZSC",
      "include_colab_link": true
    },
    "kernelspec": {
      "name": "python3",
      "display_name": "Python 3"
    },
    "language_info": {
      "name": "python"
    }
  },
  "cells": [
    {
      "cell_type": "markdown",
      "metadata": {
        "id": "view-in-github",
        "colab_type": "text"
      },
      "source": [
        "<a href=\"https://colab.research.google.com/github/rtsmapping-yili/rtsmapping/blob/main/Nitze_RTS_polygons.ipynb\" target=\"_parent\"><img src=\"https://colab.research.google.com/assets/colab-badge.svg\" alt=\"Open In Colab\"/></a>"
      ]
    },
    {
      "cell_type": "markdown",
      "source": [
        "# Nitze RTS polygons"
      ],
      "metadata": {
        "id": "Bz04Irwqhi1I"
      }
    },
    {
      "cell_type": "code",
      "execution_count": null,
      "metadata": {
        "colab": {
          "base_uri": "https://localhost:8080/"
        },
        "id": "G9wzwUAUn4Mb",
        "outputId": "36570181-16c1-4b50-b5fb-96994b7328ea"
      },
      "outputs": [
        {
          "output_type": "stream",
          "name": "stdout",
          "text": [
            "Cloning into 'rtsmapping'...\n",
            "remote: Enumerating objects: 4, done.\u001b[K\n",
            "remote: Counting objects: 100% (4/4), done.\u001b[K\n",
            "remote: Compressing objects: 100% (4/4), done.\u001b[K\n",
            "remote: Total 4 (delta 0), reused 0 (delta 0), pack-reused 0\u001b[K\n",
            "Unpacking objects: 100% (4/4), done.\n"
          ]
        }
      ],
      "source": [
        ""
      ]
    },
    {
      "cell_type": "code",
      "source": [
        ""
      ],
      "metadata": {
        "id": "UseId35Ehf-P",
        "colab": {
          "base_uri": "https://localhost:8080/"
        },
        "outputId": "460e599f-29f5-4b98-9570-28c536976e9d"
      },
      "execution_count": null,
      "outputs": [
        {
          "output_type": "stream",
          "name": "stdout",
          "text": [
            "/content/rtsmapping\n"
          ]
        }
      ]
    },
    {
      "cell_type": "code",
      "source": [
        ""
      ],
      "metadata": {
        "id": "NUfq0lqk0var"
      },
      "execution_count": null,
      "outputs": []
    }
  ]
}